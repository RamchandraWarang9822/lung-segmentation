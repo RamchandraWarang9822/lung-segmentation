{
 "cells": [
  {
   "cell_type": "code",
   "execution_count": null,
   "metadata": {},
   "outputs": [],
   "source": [
    "import os\n",
    "import nibabel as nib\n",
    "import numpy as np\n",
    "import matplotlib.pyplot as plt\n",
    "from skimage.filters import threshold_otsu\n",
    "from skimage.measure import label, regionprops\n"
   ]
  },
  {
   "cell_type": "code",
   "execution_count": 1,
   "metadata": {},
   "outputs": [],
   "source": [
    "# Path to the directory containing lung images\n",
    "input_dir = './Images/'\n",
    "output_dir = './Output/'\n",
    "\n",
    "# Create the output directory if it does not exist\n",
    "os.makedirs(output_dir, exist_ok=True)\n",
    "\n",
    "# Get a list of all files in the input directory\n",
    "image_files = [file for file in os.listdir(input_dir) if file.endswith('.nii.gz')]"
   ]
  },
  {
   "cell_type": "code",
   "execution_count": null,
   "metadata": {},
   "outputs": [],
   "source": [
    "# Process each lung image\n",
    "for file_name in image_files:\n",
    "    # Load the CT scan data\n",
    "    ct_img = nib.load(os.path.join(input_dir, file_name))\n",
    "    ct_data = ct_img.get_fdata()\n",
    "\n",
    "    # Apply Otsu's thresholding to segment lungs\n",
    "    threshold_value = threshold_otsu(ct_data)\n",
    "    lung_mask = ct_data > threshold_value\n",
    "\n",
    "    # Label connected components\n",
    "    labeled_mask = label(lung_mask)\n",
    "\n",
    "    # Get properties of connected components\n",
    "    regions = regionprops(labeled_mask)\n",
    "\n",
    "    # Find the largest connected component (lung area)\n",
    "    lung_area = None\n",
    "    max_area = 0\n",
    "    for region in regions:\n",
    "        if region.area > max_area:\n",
    "            max_area = region.area\n",
    "            lung_area = region\n",
    "\n",
    "    # Create a binary mask for the largest connected component (lung)\n",
    "    lung_mask = np.zeros_like(labeled_mask)\n",
    "    lung_mask[labeled_mask == lung_area.label] = 1\n",
    "\n",
    "    # Overlay lung contours on the original image and save\n",
    "    plt.figure(figsize=(8, 8))\n",
    "    plt.imshow(ct_data, cmap='gray')\n",
    "    plt.contour(lung_mask, colors='red', linewidths=2, levels=[0.5])\n",
    "    plt.axis('off')\n",
    "\n",
    "    # Save the image with lung contours\n",
    "    plt.tight_layout()\n",
    "    plt.savefig(os.path.join(output_dir, f'lung_contours_{file_name.replace(\".nii.gz\", \".png\")}'))\n",
    "    plt.close()"
   ]
  }
 ],
 "metadata": {
  "kernelspec": {
   "display_name": "Python 3",
   "language": "python",
   "name": "python3"
  },
  "language_info": {
   "codemirror_mode": {
    "name": "ipython",
    "version": 3
   },
   "file_extension": ".py",
   "mimetype": "text/x-python",
   "name": "python",
   "nbconvert_exporter": "python",
   "pygments_lexer": "ipython3",
   "version": "3.11.6"
  }
 },
 "nbformat": 4,
 "nbformat_minor": 2
}
